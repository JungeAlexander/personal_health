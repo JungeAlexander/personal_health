{
 "cells": [
  {
   "cell_type": "markdown",
   "id": "bb211cdf-e98b-4565-a6b1-3288af14539b",
   "metadata": {},
   "source": [
    "# Comparing today's and previous year's activities"
   ]
  },
  {
   "cell_type": "code",
   "execution_count": null,
   "id": "7bf97cdc-3b97-4921-85ba-e82aa78d780e",
   "metadata": {},
   "outputs": [],
   "source": [
    "import os\n",
    "from datetime import date, datetime, timedelta\n",
    "\n",
    "from dotenv import load_dotenv\n",
    "from qself.oura import OuraAPIClient"
   ]
  },
  {
   "cell_type": "code",
   "execution_count": null,
   "id": "7d641449-ae1b-4207-93ea-b2b4c98ece52",
   "metadata": {},
   "outputs": [],
   "source": [
    "load_dotenv()"
   ]
  },
  {
   "cell_type": "code",
   "execution_count": null,
   "id": "4b749fbf-34c8-4eac-9b00-6c71d3b7109f",
   "metadata": {},
   "outputs": [],
   "source": [
    "client = OuraAPIClient(os.environ[\"OURA_PERSONAL_ACCESS_TOKEN\"])"
   ]
  },
  {
   "cell_type": "code",
   "execution_count": null,
   "id": "121dfa39-cce3-4a20-982c-d299b2720459",
   "metadata": {},
   "outputs": [],
   "source": [
    "years_ago = 1"
   ]
  },
  {
   "cell_type": "code",
   "execution_count": null,
   "id": "1df3c6d0-78d6-4371-804b-8f881f924bee",
   "metadata": {},
   "outputs": [],
   "source": [
    "day_range = 6"
   ]
  },
  {
   "cell_type": "code",
   "execution_count": null,
   "id": "9d423531-ce1c-4551-9507-3836c7a7c201",
   "metadata": {},
   "outputs": [],
   "source": [
    "current_end = date.today()\n",
    "current_start = current_end - timedelta(days=day_range)\n",
    "prev_end = current_end - timedelta(days=365 * years_ago)  # TODO quick and dirty\n",
    "prev_start = prev_end - timedelta(days=day_range)"
   ]
  },
  {
   "cell_type": "code",
   "execution_count": null,
   "id": "21a920a6-c4ea-4ae1-8497-6378412f1a87",
   "metadata": {},
   "outputs": [],
   "source": [
    "current_da = client(\n",
    "    \"daily_activity\",\n",
    "    current_start.isoformat(),\n",
    "    (current_end + timedelta(days=1)).isoformat(),\n",
    ")"
   ]
  },
  {
   "cell_type": "code",
   "execution_count": null,
   "id": "6a13d34d-6b65-4cae-b052-37c3495186fd",
   "metadata": {},
   "outputs": [],
   "source": [
    "prev_da = client(\n",
    "    \"daily_activity\", prev_start.isoformat(), (prev_end + timedelta(days=1)).isoformat()\n",
    ")"
   ]
  },
  {
   "cell_type": "code",
   "execution_count": null,
   "id": "068095bb-078d-45ef-a349-20c272915be8",
   "metadata": {},
   "outputs": [],
   "source": [
    "for data in (current_da, prev_da):\n",
    "    for d in data[\"data\"]:\n",
    "        print(d[\"timestamp\"])\n",
    "        print(d[\"steps\"])\n",
    "    print(\"----\")"
   ]
  },
  {
   "cell_type": "code",
   "execution_count": null,
   "id": "c31b89f0-9468-4461-8cda-28e594547504",
   "metadata": {},
   "outputs": [],
   "source": [
    "data"
   ]
  }
 ],
 "metadata": {
  "kernelspec": {
   "display_name": "personal_health",
   "language": "python",
   "name": "personal_health"
  },
  "language_info": {
   "codemirror_mode": {
    "name": "ipython",
    "version": 3
   },
   "file_extension": ".py",
   "mimetype": "text/x-python",
   "name": "python",
   "nbconvert_exporter": "python",
   "pygments_lexer": "ipython3",
   "version": "3.10.4"
  }
 },
 "nbformat": 4,
 "nbformat_minor": 5
}
