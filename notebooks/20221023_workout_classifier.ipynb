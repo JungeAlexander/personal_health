{
 "cells": [
  {
   "cell_type": "markdown",
   "id": "a9cf6686-95b3-4b4f-a92a-eb18cbbe923e",
   "metadata": {},
   "source": [
    "# Classifying different workouts"
   ]
  },
  {
   "cell_type": "code",
   "execution_count": null,
   "id": "4f1576cd-4522-4382-aa60-ca65f7aebc94",
   "metadata": {},
   "outputs": [],
   "source": [
    "from collections import Counter\n",
    "import gzip\n",
    "import json\n",
    "import logging\n",
    "import os\n",
    "from datetime import date, timedelta\n",
    "\n",
    "import altair as alt\n",
    "import pandas as pd\n",
    "from dotenv import load_dotenv\n",
    "from qself.oura import OuraAPIClient"
   ]
  },
  {
   "cell_type": "code",
   "execution_count": null,
   "id": "07378d78-db31-4b75-8a3f-a23cf2aa18fc",
   "metadata": {},
   "outputs": [],
   "source": [
    "logging.basicConfig(level=logging.INFO)\n",
    "load_dotenv()"
   ]
  },
  {
   "cell_type": "markdown",
   "id": "1d1a5617",
   "metadata": {},
   "source": [
    "## Dataset prep"
   ]
  },
  {
   "cell_type": "code",
   "execution_count": null,
   "id": "eb29d765-fee4-4648-bcfa-9038e6f4df5f",
   "metadata": {},
   "outputs": [],
   "source": [
    "client = OuraAPIClient(os.environ[\"OURA_PERSONAL_ACCESS_TOKEN\"])"
   ]
  },
  {
   "cell_type": "code",
   "execution_count": null,
   "id": "d480339a-073b-4ef0-ae14-8ebdbc723159",
   "metadata": {},
   "outputs": [],
   "source": [
    "days = 365\n",
    "end = date.today()\n",
    "start = end - timedelta(days=days)"
   ]
  },
  {
   "cell_type": "code",
   "execution_count": null,
   "id": "68b1745a-b529-4dc3-97c5-781abf483155",
   "metadata": {},
   "outputs": [],
   "source": [
    "workouts = client(\"workout\", start.isoformat(), (end + timedelta(days=1)).isoformat())\n",
    "workouts[\"data\"][0]"
   ]
  },
  {
   "cell_type": "code",
   "execution_count": null,
   "id": "9305150d",
   "metadata": {},
   "outputs": [],
   "source": [
    "with gzip.open(\"../data/workouts.json.gz\", \"wt\") as f:\n",
    "    json.dump(workouts, f)"
   ]
  },
  {
   "cell_type": "code",
   "execution_count": null,
   "id": "090c0991",
   "metadata": {},
   "outputs": [],
   "source": [
    "da = client(\"daily_activity\", start.isoformat(), (end + timedelta(days=1)).isoformat())"
   ]
  },
  {
   "cell_type": "code",
   "execution_count": null,
   "id": "030a54aa",
   "metadata": {},
   "outputs": [],
   "source": [
    "da_today = da[\"data\"][-1]\n",
    "da_yesterday = da[\"data\"][-2]"
   ]
  },
  {
   "cell_type": "code",
   "execution_count": null,
   "id": "80a8ce83",
   "metadata": {},
   "outputs": [],
   "source": [
    "act_df = pd.DataFrame(da_yesterday[\"met\"][\"items\"][840:960], columns=[\"activity\"])"
   ]
  },
  {
   "cell_type": "code",
   "execution_count": null,
   "id": "4d45bcc1",
   "metadata": {},
   "outputs": [],
   "source": [
    "alt.Chart(act_df.reset_index()).mark_line().encode(\n",
    "    x=\"index:Q\",\n",
    "    y=\"activity:Q\",\n",
    ")"
   ]
  },
  {
   "cell_type": "code",
   "execution_count": null,
   "id": "8c41f3ef",
   "metadata": {},
   "outputs": [],
   "source": [
    "alt.Chart(act_df.reset_index()).mark_line().transform_window(\n",
    "    rolling_mean=\"mean(activity)\", frame=[-7, 7]\n",
    ").encode(x=\"index:Q\", y=\"rolling_mean:Q\")"
   ]
  },
  {
   "cell_type": "markdown",
   "id": "a2b81cb8",
   "metadata": {},
   "source": [
    "#### TODO\n",
    "\n",
    "- not sure if this matches what is visible in the app?"
   ]
  },
  {
   "cell_type": "markdown",
   "id": "681a981a",
   "metadata": {},
   "source": [
    "## Modelling"
   ]
  },
  {
   "cell_type": "code",
   "execution_count": null,
   "id": "69dd03e6",
   "metadata": {},
   "outputs": [],
   "source": [
    "import torch\n",
    "import torch.nn as nn\n",
    "from torch.utils import data\n",
    "import tqdm"
   ]
  },
  {
   "cell_type": "code",
   "execution_count": null,
   "id": "5df3a72d",
   "metadata": {},
   "outputs": [],
   "source": [
    "device = torch.device(\"cuda\") if torch.cuda.is_available() else torch.device(\"cpu\")\n",
    "device"
   ]
  },
  {
   "cell_type": "code",
   "execution_count": null,
   "id": "eab96ffa",
   "metadata": {},
   "outputs": [],
   "source": [
    "lbl2idx = {\"cycling\": 0, \"running\": 1, \"walking\": 2}"
   ]
  },
  {
   "cell_type": "code",
   "execution_count": null,
   "id": "876cafb1",
   "metadata": {},
   "outputs": [],
   "source": [
    "with gzip.open(\"../data/workouts.json.gz\", \"rt\") as f:\n",
    "    workouts = json.load(f)\n",
    "workout_df = pd.DataFrame(workouts[\"data\"])\n",
    "workout_df[\"duration_min\"] = [\n",
    "    d.total_seconds() / 60\n",
    "    for d in pd.to_datetime(workout_df[\"end_datetime\"])\n",
    "    - pd.to_datetime(workout_df[\"start_datetime\"])\n",
    "]\n",
    "workout_df[\"start_min\"] = [\n",
    "    s.hour * 60.0 + s.minute for s in pd.to_datetime(workout_df[\"start_datetime\"])\n",
    "]\n",
    "workout_df = workout_df.loc[workout_df.activity.isin(lbl2idx.keys()), :]\n",
    "workout_df[\"label\"] = [lbl2idx[l] for l in workout_df[\"activity\"]]\n",
    "workout_df = workout_df[[\"duration_min\", \"start_min\", \"label\"]]"
   ]
  },
  {
   "cell_type": "code",
   "execution_count": null,
   "id": "922548fa",
   "metadata": {},
   "outputs": [],
   "source": [
    "workout_df.dtypes"
   ]
  },
  {
   "cell_type": "code",
   "execution_count": null,
   "id": "3ee56788",
   "metadata": {},
   "outputs": [],
   "source": [
    "workout_df.shape"
   ]
  },
  {
   "cell_type": "code",
   "execution_count": null,
   "id": "ee72986c",
   "metadata": {},
   "outputs": [],
   "source": [
    "train_df = workout_df.loc[:500, :]\n",
    "train_df.reset_index(drop=True, inplace=True)\n",
    "\n",
    "val_df = workout_df.loc[500:750, :]\n",
    "val_df.reset_index(drop=True, inplace=True)\n",
    "\n",
    "test_df = workout_df.loc[750:, :]\n",
    "test_df.reset_index(drop=True, inplace=True)"
   ]
  },
  {
   "cell_type": "code",
   "execution_count": null,
   "id": "255e23b5",
   "metadata": {},
   "outputs": [],
   "source": [
    "print(train_df.label.value_counts())"
   ]
  },
  {
   "cell_type": "code",
   "execution_count": null,
   "id": "148cb9f1",
   "metadata": {},
   "outputs": [],
   "source": [
    "print(val_df.label.value_counts())"
   ]
  },
  {
   "cell_type": "code",
   "execution_count": null,
   "id": "78c79c9f",
   "metadata": {},
   "outputs": [],
   "source": [
    "print(test_df.label.value_counts())"
   ]
  },
  {
   "cell_type": "code",
   "execution_count": null,
   "id": "1d4e82c2",
   "metadata": {},
   "outputs": [],
   "source": [
    "class WorkoutDataset(data.Dataset):\n",
    "    def __init__(self, data):\n",
    "        self.data = data\n",
    "\n",
    "    def __len__(self):\n",
    "        return len(self.data)\n",
    "\n",
    "    def __getitem__(self, index):\n",
    "        row = self.data.iloc[index, :]\n",
    "        val = torch.from_numpy(\n",
    "            row[[\"duration_min\", \"start_min\"]].values\n",
    "        )  # TODO store as tensor\n",
    "        val = val.to(torch.float32)\n",
    "        label = torch.tensor(row[\"label\"], dtype=torch.int64)\n",
    "        # label = nn.functional.one_hot(label, num_classes=3)\n",
    "        return val, label"
   ]
  },
  {
   "cell_type": "code",
   "execution_count": null,
   "id": "658721a3",
   "metadata": {},
   "outputs": [],
   "source": [
    "train_dataset = WorkoutDataset(train_df)\n",
    "val_dataset = WorkoutDataset(val_df)\n",
    "test_dataset = WorkoutDataset(test_df)"
   ]
  },
  {
   "cell_type": "code",
   "execution_count": null,
   "id": "a3f0e072",
   "metadata": {},
   "outputs": [],
   "source": [
    "d, l = train_dataset[0]\n",
    "d.shape, l.shape"
   ]
  },
  {
   "cell_type": "code",
   "execution_count": null,
   "id": "db2c8888",
   "metadata": {},
   "outputs": [],
   "source": [
    "train_data_loader = data.DataLoader(train_dataset, batch_size=8, shuffle=True)\n",
    "val_data_loader = data.DataLoader(val_dataset, batch_size=16, shuffle=False)\n",
    "test_data_loader = data.DataLoader(test_dataset, batch_size=16, shuffle=False)"
   ]
  },
  {
   "cell_type": "code",
   "execution_count": null,
   "id": "9549ea23",
   "metadata": {},
   "outputs": [],
   "source": [
    "data_inputs, data_labels = next(iter(train_data_loader))\n",
    "print(\"Data inputs\", data_inputs.shape, \"\\n\", data_inputs)\n",
    "print(\"Data labels\", data_labels.shape, \"\\n\", data_labels)"
   ]
  },
  {
   "cell_type": "code",
   "execution_count": null,
   "id": "36732543",
   "metadata": {},
   "outputs": [],
   "source": [
    "class SimpleClassifier(nn.Module):\n",
    "    def __init__(self, num_inputs, num_hidden, num_outputs):\n",
    "        super().__init__()\n",
    "        self.linear1 = nn.Linear(num_inputs, num_hidden)\n",
    "        self.act_fn = nn.Tanh()\n",
    "        self.linear2 = nn.Linear(num_hidden, num_outputs)\n",
    "\n",
    "    def forward(self, x):\n",
    "        x = self.linear1(x)\n",
    "        x = self.act_fn(x)\n",
    "        x = self.linear2(x)\n",
    "        return x"
   ]
  },
  {
   "cell_type": "code",
   "execution_count": null,
   "id": "fb4b2bba",
   "metadata": {},
   "outputs": [],
   "source": [
    "model = SimpleClassifier(num_inputs=2, num_hidden=64, num_outputs=3)\n",
    "print(model)"
   ]
  },
  {
   "cell_type": "code",
   "execution_count": null,
   "id": "bf6496d2",
   "metadata": {},
   "outputs": [],
   "source": [
    "model.to(device)"
   ]
  },
  {
   "cell_type": "code",
   "execution_count": null,
   "id": "bbd0fd74",
   "metadata": {},
   "outputs": [],
   "source": [
    "# loss_module = nn.BCEWithLogitsLoss()\n",
    "loss_module = nn.CrossEntropyLoss()\n",
    "# loss_module = nn.NLLLoss()\n",
    "\n",
    "optimizer = torch.optim.SGD(model.parameters(), lr=0.1)"
   ]
  },
  {
   "cell_type": "code",
   "execution_count": null,
   "id": "9d771035",
   "metadata": {},
   "outputs": [],
   "source": [
    "def train_model(model, optimizer, data_loader, loss_module, num_epochs=100):\n",
    "    model.train()\n",
    "\n",
    "    # Training loop\n",
    "    for _ in tqdm.tqdm(range(num_epochs)):\n",
    "        for data_inputs, data_labels in data_loader:\n",
    "\n",
    "            # 1: move to device\n",
    "            data_inputs = data_inputs.to(device)\n",
    "            data_labels = data_labels.to(device)\n",
    "\n",
    "            # 2: forward pass\n",
    "            preds = model(data_inputs)\n",
    "\n",
    "            # 3: compute loss\n",
    "            loss = loss_module(preds, data_labels)\n",
    "\n",
    "            # 4: compute gradients\n",
    "            optimizer.zero_grad()\n",
    "            loss.backward()\n",
    "\n",
    "            # 5: update parameters\n",
    "            optimizer.step()\n",
    "\n",
    "            # LOL: slight digression, below is GH Copilot suggestions\n",
    "\n",
    "            # 6: compute accuracy\n",
    "\n",
    "            # 7: log\n",
    "\n",
    "            # 8: save model\n",
    "\n",
    "            # 9: save optimizer\n",
    "\n",
    "            # 10: save metrics\n",
    "\n",
    "            # 11: save predictions\n",
    "\n",
    "            # 12: save labels\n",
    "\n",
    "            # 13: save loss\n",
    "\n",
    "            # 14: save gradients\n",
    "\n",
    "            # 15: save inputs\n",
    "\n",
    "            # 15: save outputs\n",
    "\n",
    "            # 16: save activations\n",
    "\n",
    "            # 17: save weights\n",
    "\n",
    "            # 18: save biases\n",
    "\n",
    "            # 19: save histograms\n",
    "\n",
    "            # 20: save images\n",
    "\n",
    "            # 21: save videos\n",
    "\n",
    "            # 22: save audio\n",
    "\n",
    "            # 23: save text\n",
    "\n",
    "            # 24: save plots\n",
    "\n",
    "            # 25: save figures\n",
    "\n",
    "            # 26: save tables\n",
    "\n",
    "            # 27: save dataframes\n",
    "\n",
    "            # 28: save tensors\n",
    "\n",
    "            # 29: save numpy arrays\n",
    "\n",
    "            # 30: save scipy arrays\n",
    "\n",
    "            # 31: save pandas arrays\n",
    "\n",
    "            # 32: save matplotlib arrays\n",
    "\n",
    "            # 33: save seaborn arrays\n",
    "\n",
    "            # 34: save bokeh arrays\n",
    "\n",
    "            # 35: save plotly arrays\n",
    "\n",
    "            # 36: save altair arrays\n",
    "\n",
    "            # 37: save networkx arrays\n",
    "\n",
    "            # 38: save pytorch arrays\n",
    "\n",
    "            # 39: save tensorflow arrays\n",
    "\n",
    "            # 40: save keras arrays\n",
    "\n",
    "            # 41: save sklearn arrays\n",
    "\n",
    "            # 42: save xgboost arrays\n",
    "\n",
    "            # 43: save lightgbm arrays\n",
    "\n",
    "            # 44: save catboost arrays\n",
    "\n",
    "            # 45: save dask arrays\n",
    "\n",
    "            # 46: save ray arrays\n",
    "\n",
    "            # 47: save jax arrays\n",
    "\n",
    "            # 48: save gluon arrays\n",
    "\n",
    "            # 49: save mxnet arrays\n",
    "\n",
    "            # 50: save chainer arrays\n",
    "\n",
    "            # 51: save onnx arrays\n",
    "\n",
    "            # 52: save caffe arrays\n",
    "\n",
    "            # 53: save caffe2 arrays\n",
    "\n",
    "            # 54: save tensorflow lite arrays\n",
    "\n",
    "            # 55: save tensorflow js arrays\n",
    "\n",
    "            # 56: save pytorch js arrays\n",
    "\n",
    "            # 57: save pytorch mobile arrays\n",
    "\n",
    "            # 58: save pytorch c++ arrays\n",
    "\n",
    "            # 59: save pytorch c arrays\n",
    "\n",
    "            # 60: save pytorch cuda arrays\n",
    "\n",
    "            # 61: save pytorch cuda c arrays\n",
    "\n",
    "            # 62: save pytorch cuda c++ arrays\n",
    "\n",
    "            # 63: save pytorch cuda js arrays\n",
    "\n",
    "            # 64: save pytorch cuda mobile arrays\n",
    "\n",
    "            # 65: save pytorch cuda lite arrays\n",
    "\n",
    "            # 66: save pytorch cuda onnx arrays\n",
    "\n",
    "            # 67: save pytorch cuda caffe arrays\n",
    "\n",
    "            # 68: save pytorch cuda caffe2 arrays\n",
    "\n",
    "            # 69: save pytorch cuda tensorflow arrays\n",
    "\n",
    "            # 70: save pytorch cuda keras arrays\n",
    "\n",
    "            # 71: save pytorch cuda sklearn arrays\n",
    "\n",
    "            # 72: save pytorch cuda xgboost arrays\n",
    "\n",
    "            # 73: save pytorch cuda lightgbm arrays\n",
    "\n",
    "            # 74: save pytorch cuda catboost arrays\n",
    "\n",
    "            # 75: save pytorch cuda dask arrays\n",
    "\n",
    "            # 76: save pytorch cuda ray arrays\n",
    "\n",
    "            # 77: save pytorch cuda jax arrays\n",
    "\n",
    "            # 78: save pytorch cuda gluon arrays\n",
    "\n",
    "            # 79: save pytorch cuda mxnet arrays\n",
    "\n",
    "            # 80: save pytorch cuda chainer arrays\n",
    "\n",
    "            # 81: save pytorch cuda onnx arrays\n",
    "\n",
    "            # 82: save pytorch cuda caffe arrays\n",
    "\n",
    "            # 83: save pytorch cuda caffe2 arrays\n",
    "\n",
    "            # 84: save pytorch cuda tensorflow lite arrays\n",
    "\n",
    "            # 85: save pytorch cuda tensorflow js arrays\n",
    "\n",
    "            # 86: save pytorch cuda pytorch js arrays\n",
    "\n",
    "            # 87: save pytorch cuda pytorch mobile arrays\n",
    "\n",
    "            # 88: save pytorch cuda pytorch c++ arrays\n",
    "\n",
    "            # 89: save pytorch cuda pytorch c arrays\n",
    "\n",
    "            # 90: save pytorch cuda pytorch js arrays\n",
    "\n",
    "            # 91: save pytorch cuda pytorch mobile arrays\n",
    "\n",
    "            # 92: save pytorch cuda pytorch lite arrays\n",
    "\n",
    "            # 93: save pytorch cuda pytorch onnx arrays\n",
    "\n",
    "            # 94: save pytorch cuda pytorch caffe arrays\n",
    "\n",
    "            # 95: save pytorch cuda pytorch caffe2 arrays\n",
    "\n",
    "            # 96: save pytorch cuda pytorch tensorflow arrays\n",
    "\n",
    "            # 97: save pytorch cuda pytorch keras arrays\n",
    "\n",
    "            # 98: save pytorch cuda pytorch sklearn arrays\n",
    "\n",
    "            # 99: save pytorch cuda pytorch xgboost arrays\n",
    "\n",
    "            # 100: save pytorch cuda pytorch lightgbm arrays\n",
    "\n",
    "            # 101: save pytorch cuda pytorch catboost arrays\n",
    "\n",
    "            # 102: save pytorch cuda pytorch dask arrays"
   ]
  },
  {
   "cell_type": "code",
   "execution_count": null,
   "id": "1cd799a4",
   "metadata": {},
   "outputs": [],
   "source": [
    "train_model(model, optimizer, train_data_loader, loss_module)"
   ]
  },
  {
   "cell_type": "code",
   "execution_count": null,
   "id": "d0ff36f1",
   "metadata": {},
   "outputs": [],
   "source": [
    "state_dict = model.state_dict()\n",
    "torch.save(state_dict, \"model.pt\")\n",
    "# state_dict = torch.load(\"model.pt\")\n",
    "# new_model = SimpleClassifier(num_inputs=2, num_hidden=4, num_outputs=1)\n",
    "# new_model.load_state_dict(state_dict)"
   ]
  },
  {
   "cell_type": "code",
   "execution_count": null,
   "id": "a60eb65d",
   "metadata": {},
   "outputs": [],
   "source": [
    "def eval_model(model, data_loader):\n",
    "    model.eval()\n",
    "    true_preds, num_preds = 0.0, 0.0\n",
    "    all_preds = []\n",
    "\n",
    "    with torch.no_grad():  # Deactivate gradients for the following code\n",
    "        for data_inputs, data_labels in data_loader:\n",
    "\n",
    "            data_inputs, data_labels = data_inputs.to(device), data_labels.to(device)\n",
    "            preds = model(data_inputs)\n",
    "            preds = torch.argmax(preds, dim=1)\n",
    "\n",
    "            all_preds.extend(preds.tolist())\n",
    "            true_preds += (preds == data_labels).sum()\n",
    "            num_preds += data_labels.shape[0]\n",
    "\n",
    "    acc = true_preds / num_preds\n",
    "    print(f\"Accuracy of the model: {100.0*acc:4.2f}%\")\n",
    "    return all_preds"
   ]
  },
  {
   "cell_type": "code",
   "execution_count": null,
   "id": "6bf242c9",
   "metadata": {},
   "outputs": [],
   "source": [
    "train_preds = eval_model(model, train_data_loader)\n",
    "Counter(train_preds)"
   ]
  },
  {
   "cell_type": "code",
   "execution_count": null,
   "id": "f150c6c3",
   "metadata": {},
   "outputs": [],
   "source": [
    "val_preds = eval_model(model, val_data_loader)\n",
    "Counter(val_preds)"
   ]
  },
  {
   "cell_type": "code",
   "execution_count": null,
   "id": "a862ae9e",
   "metadata": {},
   "outputs": [],
   "source": [
    "test_preds = eval_model(model, test_data_loader)\n",
    "Counter(test_preds)"
   ]
  }
 ],
 "metadata": {
  "kernelspec": {
   "display_name": "Python 3.10.4 64-bit ('personal_health')",
   "language": "python",
   "name": "python3"
  },
  "language_info": {
   "codemirror_mode": {
    "name": "ipython",
    "version": 3
   },
   "file_extension": ".py",
   "mimetype": "text/x-python",
   "name": "python",
   "nbconvert_exporter": "python",
   "pygments_lexer": "ipython3",
   "version": "3.10.4"
  },
  "vscode": {
   "interpreter": {
    "hash": "5d8bd3b7d63f265d5c01981fa6862e3ae4aa2ff6fb8fb84ae2f5e23fe4347b4f"
   }
  }
 },
 "nbformat": 4,
 "nbformat_minor": 5
}
