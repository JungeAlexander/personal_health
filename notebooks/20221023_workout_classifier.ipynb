{
 "cells": [
  {
   "cell_type": "markdown",
   "id": "a9cf6686-95b3-4b4f-a92a-eb18cbbe923e",
   "metadata": {},
   "source": [
    "# Classifying different workouts"
   ]
  },
  {
   "cell_type": "code",
   "execution_count": null,
   "id": "4f1576cd-4522-4382-aa60-ca65f7aebc94",
   "metadata": {},
   "outputs": [],
   "source": [
    "import gzip\n",
    "import json\n",
    "import logging\n",
    "import os\n",
    "from datetime import date, timedelta\n",
    "\n",
    "import altair as alt\n",
    "import pandas as pd\n",
    "from dotenv import load_dotenv\n",
    "from qself.oura import OuraAPIClient"
   ]
  },
  {
   "cell_type": "code",
   "execution_count": null,
   "id": "07378d78-db31-4b75-8a3f-a23cf2aa18fc",
   "metadata": {},
   "outputs": [],
   "source": [
    "logging.basicConfig(level=logging.INFO)\n",
    "load_dotenv()"
   ]
  },
  {
   "cell_type": "markdown",
   "id": "1d1a5617",
   "metadata": {},
   "source": [
    "## Dataset prep"
   ]
  },
  {
   "cell_type": "code",
   "execution_count": null,
   "id": "eb29d765-fee4-4648-bcfa-9038e6f4df5f",
   "metadata": {},
   "outputs": [],
   "source": [
    "client = OuraAPIClient(os.environ[\"OURA_PERSONAL_ACCESS_TOKEN\"])"
   ]
  },
  {
   "cell_type": "code",
   "execution_count": null,
   "id": "d480339a-073b-4ef0-ae14-8ebdbc723159",
   "metadata": {},
   "outputs": [],
   "source": [
    "days = 365\n",
    "end = date.today()\n",
    "start = end - timedelta(days=days)"
   ]
  },
  {
   "cell_type": "code",
   "execution_count": null,
   "id": "68b1745a-b529-4dc3-97c5-781abf483155",
   "metadata": {},
   "outputs": [],
   "source": [
    "workouts = client(\"workout\", start.isoformat(), (end + timedelta(days=1)).isoformat())\n",
    "workouts[\"data\"][0]"
   ]
  },
  {
   "cell_type": "code",
   "execution_count": null,
   "id": "9305150d",
   "metadata": {},
   "outputs": [],
   "source": [
    "with gzip.open(\"../data/workouts.json.gz\", \"wt\") as f:\n",
    "    json.dump(workouts, f)"
   ]
  },
  {
   "cell_type": "code",
   "execution_count": null,
   "id": "090c0991",
   "metadata": {},
   "outputs": [],
   "source": [
    "da = client(\"daily_activity\", start.isoformat(), (end + timedelta(days=1)).isoformat())"
   ]
  },
  {
   "cell_type": "code",
   "execution_count": null,
   "id": "030a54aa",
   "metadata": {},
   "outputs": [],
   "source": [
    "da_today = da[\"data\"][-1]\n",
    "da_yesterday = da[\"data\"][-2]"
   ]
  },
  {
   "cell_type": "code",
   "execution_count": null,
   "id": "80a8ce83",
   "metadata": {},
   "outputs": [],
   "source": [
    "act_df = pd.DataFrame(da_yesterday[\"met\"][\"items\"][840:960], columns=[\"activity\"])"
   ]
  },
  {
   "cell_type": "code",
   "execution_count": null,
   "id": "4d45bcc1",
   "metadata": {},
   "outputs": [],
   "source": [
    "alt.Chart(act_df.reset_index()).mark_line().encode(\n",
    "    x=\"index:Q\",\n",
    "    y=\"activity:Q\",\n",
    ")"
   ]
  },
  {
   "cell_type": "code",
   "execution_count": null,
   "id": "8c41f3ef",
   "metadata": {},
   "outputs": [],
   "source": [
    "alt.Chart(act_df.reset_index()).mark_line().transform_window(\n",
    "    rolling_mean=\"mean(activity)\", frame=[-7, 7]\n",
    ").encode(x=\"index:Q\", y=\"rolling_mean:Q\")"
   ]
  },
  {
   "cell_type": "markdown",
   "id": "a2b81cb8",
   "metadata": {},
   "source": [
    "#### TODO\n",
    "\n",
    "- not sure if this matches what is visible in the app?"
   ]
  },
  {
   "cell_type": "markdown",
   "id": "681a981a",
   "metadata": {},
   "source": [
    "## Modelling"
   ]
  },
  {
   "cell_type": "code",
   "execution_count": null,
   "id": "69dd03e6",
   "metadata": {},
   "outputs": [],
   "source": [
    "import torch\n",
    "import torch.nn as nn\n",
    "from torch.utils import data\n",
    "import tqdm"
   ]
  },
  {
   "cell_type": "code",
   "execution_count": null,
   "id": "5df3a72d",
   "metadata": {},
   "outputs": [],
   "source": [
    "device = torch.device(\"cuda\") if torch.cuda.is_available() else torch.device(\"cpu\")\n",
    "device"
   ]
  },
  {
   "cell_type": "code",
   "execution_count": null,
   "id": "eab96ffa",
   "metadata": {},
   "outputs": [],
   "source": [
    "lbl2idx = {\"cycling\": 0, \"running\": 1, \"walking\": 2}"
   ]
  },
  {
   "cell_type": "code",
   "execution_count": null,
   "id": "876cafb1",
   "metadata": {},
   "outputs": [],
   "source": [
    "with gzip.open(\"../data/workouts.json.gz\", \"rt\") as f:\n",
    "    workouts = json.load(f)\n",
    "workout_df = pd.DataFrame(workouts[\"data\"])\n",
    "workout_df[\"duration_min\"] = [\n",
    "    d.total_seconds() / 60\n",
    "    for d in pd.to_datetime(workout_df[\"end_datetime\"])\n",
    "    - pd.to_datetime(workout_df[\"start_datetime\"])\n",
    "]\n",
    "workout_df[\"start_min\"] = [\n",
    "    s.hour * 60.0 + s.minute for s in pd.to_datetime(workout_df[\"start_datetime\"])\n",
    "]\n",
    "workout_df = workout_df.loc[workout_df.activity.isin(lbl2idx.keys()), :]\n",
    "workout_df[\"label\"] = [lbl2idx[l] for l in workout_df[\"activity\"]]\n",
    "workout_df = workout_df[[\"duration_min\", \"start_min\", \"label\"]]"
   ]
  },
  {
   "cell_type": "code",
   "execution_count": null,
   "id": "922548fa",
   "metadata": {},
   "outputs": [],
   "source": [
    "workout_df.dtypes"
   ]
  },
  {
   "cell_type": "code",
   "execution_count": null,
   "id": "3ee56788",
   "metadata": {},
   "outputs": [],
   "source": [
    "workout_df.shape"
   ]
  },
  {
   "cell_type": "code",
   "execution_count": null,
   "id": "ee72986c",
   "metadata": {},
   "outputs": [],
   "source": [
    "train_df = workout_df.loc[:500, :]\n",
    "train_df.reset_index(drop=True, inplace=True)\n",
    "\n",
    "val_df = workout_df.loc[500:750, :]\n",
    "val_df.reset_index(drop=True, inplace=True)\n",
    "\n",
    "test_df = workout_df.loc[750:, :]\n",
    "test_df.reset_index(drop=True, inplace=True)"
   ]
  },
  {
   "cell_type": "code",
   "execution_count": null,
   "id": "255e23b5",
   "metadata": {},
   "outputs": [],
   "source": [
    "print(train_df.label.value_counts())"
   ]
  },
  {
   "cell_type": "code",
   "execution_count": null,
   "id": "148cb9f1",
   "metadata": {},
   "outputs": [],
   "source": [
    "print(val_df.label.value_counts())"
   ]
  },
  {
   "cell_type": "code",
   "execution_count": null,
   "id": "78c79c9f",
   "metadata": {},
   "outputs": [],
   "source": [
    "print(test_df.label.value_counts())"
   ]
  },
  {
   "cell_type": "code",
   "execution_count": null,
   "id": "1d4e82c2",
   "metadata": {},
   "outputs": [],
   "source": [
    "class WorkoutDataset(data.Dataset):\n",
    "    def __init__(self, data):\n",
    "        self.data = data\n",
    "\n",
    "    def __len__(self):\n",
    "        return len(self.data)\n",
    "\n",
    "    def __getitem__(self, index):\n",
    "        row = self.data.iloc[index, :]\n",
    "        val = torch.from_numpy(\n",
    "            row[[\"duration_min\", \"start_min\"]].values\n",
    "        )  # TODO nasty but okay for tiny dataset\n",
    "        val = val.to(torch.float32)\n",
    "        label = torch.tensor(row[\"label\"], dtype=torch.int64)\n",
    "        label = nn.functional.one_hot(label, num_classes=3)\n",
    "        return val, label"
   ]
  },
  {
   "cell_type": "code",
   "execution_count": null,
   "id": "658721a3",
   "metadata": {},
   "outputs": [],
   "source": [
    "train_dataset = WorkoutDataset(train_df)\n",
    "val_dataset = WorkoutDataset(val_df)\n",
    "test_dataset = WorkoutDataset(test_df)"
   ]
  },
  {
   "cell_type": "code",
   "execution_count": null,
   "id": "a3f0e072",
   "metadata": {},
   "outputs": [],
   "source": [
    "d, l = train_dataset[0]"
   ]
  },
  {
   "cell_type": "code",
   "execution_count": null,
   "id": "c907f919",
   "metadata": {},
   "outputs": [],
   "source": [
    "d.shape, l.shape"
   ]
  },
  {
   "cell_type": "code",
   "execution_count": null,
   "id": "db2c8888",
   "metadata": {},
   "outputs": [],
   "source": [
    "train_data_loader = data.DataLoader(train_dataset, batch_size=8, shuffle=True)\n",
    "val_data_loader = data.DataLoader(val_dataset, batch_size=16, shuffle=False)\n",
    "test_data_loader = data.DataLoader(test_dataset, batch_size=16, shuffle=False)"
   ]
  },
  {
   "cell_type": "code",
   "execution_count": null,
   "id": "36732543",
   "metadata": {},
   "outputs": [],
   "source": [
    "class SimpleClassifier(nn.Module):\n",
    "    def __init__(self, num_inputs, num_hidden, num_outputs):\n",
    "        super().__init__()\n",
    "        # Initialize the modules we need to build the network\n",
    "        self.linear1 = nn.Linear(num_inputs, num_hidden)\n",
    "        self.act_fn = nn.Tanh()\n",
    "        self.linear2 = nn.Linear(num_hidden, num_outputs)\n",
    "\n",
    "    def forward(self, x):\n",
    "        # Perform the calculation of the model to determine the prediction\n",
    "        x = self.linear1(x)\n",
    "        x = self.act_fn(x)\n",
    "        x = self.linear2(x)\n",
    "        return x"
   ]
  },
  {
   "cell_type": "code",
   "execution_count": null,
   "id": "fb4b2bba",
   "metadata": {},
   "outputs": [],
   "source": [
    "model = SimpleClassifier(num_inputs=2, num_hidden=8, num_outputs=3)\n",
    "print(model)"
   ]
  },
  {
   "cell_type": "code",
   "execution_count": null,
   "id": "bf6496d2",
   "metadata": {},
   "outputs": [],
   "source": [
    "model.to(device)"
   ]
  },
  {
   "cell_type": "code",
   "execution_count": null,
   "id": "bbd0fd74",
   "metadata": {},
   "outputs": [],
   "source": [
    "# loss_module = nn.BCEWithLogitsLoss()\n",
    "# loss_module = nn.CrossEntropyLoss()\n",
    "loss_module = nn.NLLLoss()\n",
    "optimizer = torch.optim.SGD(model.parameters(), lr=0.1)"
   ]
  },
  {
   "cell_type": "code",
   "execution_count": null,
   "id": "9d771035",
   "metadata": {},
   "outputs": [],
   "source": [
    "def train_model(model, optimizer, data_loader, loss_module, num_epochs=100):\n",
    "    model.train()\n",
    "\n",
    "    # Training loop\n",
    "    for _ in tqdm.tqdm(range(num_epochs)):\n",
    "        for data_inputs, data_labels in data_loader:\n",
    "\n",
    "            data_inputs = data_inputs.to(device)\n",
    "            data_labels = data_labels.to(device)\n",
    "\n",
    "            preds = model(data_inputs)\n",
    "            # preds = preds.squeeze(dim=1)\n",
    "            print(preds.shape, data_labels.shape)\n",
    "\n",
    "            loss = loss_module(preds, data_labels)\n",
    "\n",
    "            optimizer.zero_grad()\n",
    "            loss.backward()\n",
    "\n",
    "            optimizer.step()"
   ]
  },
  {
   "cell_type": "code",
   "execution_count": null,
   "id": "1cd799a4",
   "metadata": {},
   "outputs": [],
   "source": [
    "train_model(model, optimizer, train_data_loader, loss_module)"
   ]
  }
 ],
 "metadata": {
  "kernelspec": {
   "display_name": "Python 3.10.4 64-bit ('personal_health')",
   "language": "python",
   "name": "python3"
  },
  "language_info": {
   "codemirror_mode": {
    "name": "ipython",
    "version": 3
   },
   "file_extension": ".py",
   "mimetype": "text/x-python",
   "name": "python",
   "nbconvert_exporter": "python",
   "pygments_lexer": "ipython3",
   "version": "3.10.4"
  },
  "vscode": {
   "interpreter": {
    "hash": "5d8bd3b7d63f265d5c01981fa6862e3ae4aa2ff6fb8fb84ae2f5e23fe4347b4f"
   }
  }
 },
 "nbformat": 4,
 "nbformat_minor": 5
}
