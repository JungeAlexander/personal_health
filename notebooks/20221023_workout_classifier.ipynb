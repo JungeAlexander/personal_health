{
 "cells": [
  {
   "cell_type": "markdown",
   "id": "a9cf6686-95b3-4b4f-a92a-eb18cbbe923e",
   "metadata": {},
   "source": [
    "# Classifying different workouts"
   ]
  },
  {
   "cell_type": "code",
   "execution_count": null,
   "id": "4f1576cd-4522-4382-aa60-ca65f7aebc94",
   "metadata": {},
   "outputs": [],
   "source": [
    "import logging\n",
    "import os\n",
    "from datetime import date, timedelta\n",
    "\n",
    "from dotenv import load_dotenv\n",
    "from qself.oura import OuraAPIClient"
   ]
  },
  {
   "cell_type": "code",
   "execution_count": null,
   "id": "07378d78-db31-4b75-8a3f-a23cf2aa18fc",
   "metadata": {},
   "outputs": [],
   "source": [
    "logging.basicConfig(level=logging.INFO)\n",
    "load_dotenv()"
   ]
  },
  {
   "cell_type": "code",
   "execution_count": null,
   "id": "eb29d765-fee4-4648-bcfa-9038e6f4df5f",
   "metadata": {},
   "outputs": [],
   "source": [
    "client = OuraAPIClient(os.environ[\"OURA_PERSONAL_ACCESS_TOKEN\"])"
   ]
  },
  {
   "cell_type": "code",
   "execution_count": null,
   "id": "d480339a-073b-4ef0-ae14-8ebdbc723159",
   "metadata": {},
   "outputs": [],
   "source": [
    "end = date.today()\n",
    "start = end - timedelta(days=6)"
   ]
  },
  {
   "cell_type": "code",
   "execution_count": null,
   "id": "68b1745a-b529-4dc3-97c5-781abf483155",
   "metadata": {},
   "outputs": [],
   "source": [
    "workouts = client(\"workout\", start.isoformat(), (end + timedelta(days=1)).isoformat())\n",
    "workouts"
   ]
  }
 ],
 "metadata": {
  "kernelspec": {
   "display_name": "personal_health",
   "language": "python",
   "name": "personal_health"
  },
  "language_info": {
   "codemirror_mode": {
    "name": "ipython",
    "version": 3
   },
   "file_extension": ".py",
   "mimetype": "text/x-python",
   "name": "python",
   "nbconvert_exporter": "python",
   "pygments_lexer": "ipython3",
   "version": "3.10.4"
  }
 },
 "nbformat": 4,
 "nbformat_minor": 5
}
