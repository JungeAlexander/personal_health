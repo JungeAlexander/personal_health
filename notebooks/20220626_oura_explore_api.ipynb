{
 "cells": [
  {
   "cell_type": "markdown",
   "id": "492ef946-aa1a-42ad-af3c-fd5af9c58b9a",
   "metadata": {},
   "source": [
    "# Exploring the Oura API"
   ]
  },
  {
   "cell_type": "code",
   "execution_count": null,
   "id": "dced30fe-bf9a-4ed4-a47e-907ef639253b",
   "metadata": {},
   "outputs": [],
   "source": [
    "from datetime import date, datetime, timedelta\n",
    "import os\n",
    "\n",
    "import requests\n",
    "from dotenv import load_dotenv"
   ]
  },
  {
   "cell_type": "code",
   "execution_count": null,
   "id": "1a9c8aa2-57c3-470d-acdc-70aeb6d43548",
   "metadata": {},
   "outputs": [],
   "source": [
    "load_dotenv()"
   ]
  },
  {
   "cell_type": "markdown",
   "id": "bc515b63-b37e-4097-90a0-f538c5448ea5",
   "metadata": {},
   "source": [
    "## v2 API"
   ]
  },
  {
   "cell_type": "code",
   "execution_count": null,
   "id": "97ab3e4e-c359-4004-897b-05d67cd1e911",
   "metadata": {},
   "outputs": [],
   "source": [
    "class OuraAPIv2Client:\n",
    "\n",
    "    BASE_URL = \"https://api.ouraring.com/v2/usercollection\"\n",
    "\n",
    "    def __init__(self, personal_token):\n",
    "        self.personal_token = personal_token\n",
    "\n",
    "    def __call__(self, endpoint: str, start: str = None, end: str = None):\n",
    "        url = f\"{self.BASE_URL}/{endpoint}\"\n",
    "        if start is None:\n",
    "            params = None if end is None else {\"end_date\": end}\n",
    "        else:\n",
    "            params = {\"start_date\": start, \"end_date\": end}\n",
    "        headers = {\"Authorization\": f\"Bearer {self.personal_token}\"}\n",
    "        response = requests.request(\"GET\", url, headers=headers, params=params)\n",
    "        return response.json()  # TODO check status code and handle errors\n",
    "\n",
    "\n",
    "client = OuraAPIv2Client(os.environ[\"OURA_PERSONAL_ACCESS_TOKEN\"])\n"
   ]
  },
  {
   "cell_type": "markdown",
   "id": "0986341f-0919-47f5-8f9d-c2aab9053060",
   "metadata": {},
   "source": [
    "### Daily Activity"
   ]
  },
  {
   "cell_type": "code",
   "execution_count": null,
   "id": "22180a87",
   "metadata": {},
   "outputs": [],
   "source": [
    "da = client(\"daily_activity\", \"2022-06-25\", \"2022-06-26\")\n",
    "da"
   ]
  },
  {
   "cell_type": "markdown",
   "id": "f9d12204",
   "metadata": {},
   "source": [
    "### Heart Rate"
   ]
  },
  {
   "cell_type": "code",
   "execution_count": null,
   "id": "4e79e255",
   "metadata": {},
   "outputs": [],
   "source": [
    "e = datetime.now()\n",
    "s = e - timedelta(hours=12)"
   ]
  },
  {
   "cell_type": "code",
   "execution_count": null,
   "id": "a5e38013",
   "metadata": {},
   "outputs": [],
   "source": [
    "hr = client(\"heartrate\", s.isoformat(), e.isoformat())\n",
    "hr"
   ]
  },
  {
   "cell_type": "markdown",
   "id": "1a65c0e7",
   "metadata": {},
   "source": [
    "### Personal Info"
   ]
  },
  {
   "cell_type": "code",
   "execution_count": null,
   "id": "eea77b56",
   "metadata": {},
   "outputs": [],
   "source": [
    "pi = client(\"personal_info\")\n",
    "pi"
   ]
  },
  {
   "cell_type": "markdown",
   "id": "404f222d",
   "metadata": {},
   "source": [
    "### Sessions"
   ]
  },
  {
   "cell_type": "code",
   "execution_count": null,
   "id": "313570bb",
   "metadata": {},
   "outputs": [],
   "source": [
    "sessions = client(\"session\", \"2022-06-01\", \"2022-06-26\")\n",
    "sessions"
   ]
  },
  {
   "cell_type": "markdown",
   "id": "0b43ec93-d0e9-458c-aefa-5ebaabfc576b",
   "metadata": {},
   "source": [
    "### Tags"
   ]
  },
  {
   "cell_type": "code",
   "execution_count": null,
   "id": "addd0000-7ff9-4b99-831d-2c6e10c3dd25",
   "metadata": {},
   "outputs": [],
   "source": [
    "tags = client(\"tag\", \"2022-06-01\", \"2022-06-26\")\n",
    "tags"
   ]
  },
  {
   "cell_type": "markdown",
   "id": "0230a578",
   "metadata": {},
   "source": [
    "### Workouts "
   ]
  },
  {
   "cell_type": "code",
   "execution_count": null,
   "id": "7b92f4da",
   "metadata": {},
   "outputs": [],
   "source": [
    "workouts = client(\"workout\", \"2022-06-01\", \"2022-06-26\")\n",
    "workouts"
   ]
  }
 ],
 "metadata": {
  "kernelspec": {
   "display_name": "personal_health",
   "language": "python",
   "name": "personal_health"
  },
  "language_info": {
   "codemirror_mode": {
    "name": "ipython",
    "version": 3
   },
   "file_extension": ".py",
   "mimetype": "text/x-python",
   "name": "python",
   "nbconvert_exporter": "python",
   "pygments_lexer": "ipython3",
   "version": "3.10.4"
  }
 },
 "nbformat": 4,
 "nbformat_minor": 5
}
