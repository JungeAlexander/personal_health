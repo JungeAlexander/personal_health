{
 "cells": [
  {
   "cell_type": "markdown",
   "id": "492ef946-aa1a-42ad-af3c-fd5af9c58b9a",
   "metadata": {},
   "source": [
    "# Exploring the Oura API"
   ]
  },
  {
   "cell_type": "code",
   "execution_count": null,
   "id": "dced30fe-bf9a-4ed4-a47e-907ef639253b",
   "metadata": {},
   "outputs": [],
   "source": [
    "from datetime import date, datetime, timedelta\n",
    "import os\n",
    "\n",
    "from bokeh.plotting import figure, show\n",
    "from bokeh.models import ColumnDataSource, HoverTool, CrosshairTool\n",
    "from bokeh.io import output_notebook\n",
    "import pandas as pd\n",
    "import pprint\n",
    "import requests\n",
    "from dotenv import load_dotenv"
   ]
  },
  {
   "cell_type": "code",
   "execution_count": null,
   "id": "1a9c8aa2-57c3-470d-acdc-70aeb6d43548",
   "metadata": {},
   "outputs": [],
   "source": [
    "output_notebook()\n",
    "load_dotenv()"
   ]
  },
  {
   "cell_type": "markdown",
   "id": "bc515b63-b37e-4097-90a0-f538c5448ea5",
   "metadata": {},
   "source": [
    "## Helper class"
   ]
  },
  {
   "cell_type": "code",
   "execution_count": null,
   "id": "97ab3e4e-c359-4004-897b-05d67cd1e911",
   "metadata": {},
   "outputs": [],
   "source": [
    "class OuraAPIClient:\n",
    "\n",
    "    ENDPOINT_TO_API_VERSION = {\n",
    "        \"activity\": \"v1\",\n",
    "        \"bedtime\": \"v1\",\n",
    "        \"daily_activity\": \"v2\",\n",
    "        \"heartrate\": \"v2\",\n",
    "        \"personal_info\": \"v2\",\n",
    "        \"readiness\": \"v1\",\n",
    "        \"session\": \"v2\",\n",
    "        \"sleep\": \"v1\",\n",
    "        \"tag\": \"v2\",\n",
    "        \"workout\": \"v2\",\n",
    "    }\n",
    "\n",
    "    API_VERSION_TO_BASE_URL = {\n",
    "        \"v1\": \"https://api.ouraring.com/v1\",\n",
    "        \"v2\": \"https://api.ouraring.com/v2/usercollection\",\n",
    "    }\n",
    "\n",
    "    API_VERSION_TO_DATE_POSTFIX = {\"v1\": \"\", \"v2\": \"_date\"}\n",
    "\n",
    "    def __init__(self, personal_token):\n",
    "        self.personal_token = personal_token\n",
    "\n",
    "    def __call__(self, endpoint: str, start: str = None, end: str = None):\n",
    "        api_version = self.ENDPOINT_TO_API_VERSION[endpoint]\n",
    "        base_url = self.API_VERSION_TO_BASE_URL[api_version]\n",
    "        start_param = f\"start{self.API_VERSION_TO_DATE_POSTFIX[api_version]}\"\n",
    "        end_param = f\"end{self.API_VERSION_TO_DATE_POSTFIX[api_version]}\"\n",
    "        url = f\"{base_url}/{endpoint}\"  # TODO more robust URL joining\n",
    "        if start is None:\n",
    "            params = None if end is None else {end_param: end}\n",
    "        else:\n",
    "            params = {\n",
    "                start_param: start,\n",
    "                end_param: end,\n",
    "            }  # TODO what if end is None? test this\n",
    "        headers = {\"Authorization\": f\"Bearer {self.personal_token}\"}\n",
    "        response = requests.request(\"GET\", url, headers=headers, params=params)\n",
    "        return response.json()  # TODO check status code and handle errors\n",
    "\n",
    "\n",
    "client = OuraAPIClient(os.environ[\"OURA_PERSONAL_ACCESS_TOKEN\"])"
   ]
  },
  {
   "cell_type": "markdown",
   "id": "b3ca12a6",
   "metadata": {},
   "source": [
    "## v2 API"
   ]
  },
  {
   "cell_type": "markdown",
   "id": "0986341f-0919-47f5-8f9d-c2aab9053060",
   "metadata": {},
   "source": [
    "### Daily Activity"
   ]
  },
  {
   "cell_type": "code",
   "execution_count": null,
   "id": "22180a87",
   "metadata": {},
   "outputs": [],
   "source": [
    "da = client(\"daily_activity\", \"2022-06-25\", \"2022-06-26\")"
   ]
  },
  {
   "cell_type": "code",
   "execution_count": null,
   "id": "595769f3",
   "metadata": {},
   "outputs": [],
   "source": [
    "pprint.pprint(da[\"data\"][0])"
   ]
  },
  {
   "cell_type": "code",
   "execution_count": null,
   "id": "270f72b3",
   "metadata": {},
   "outputs": [],
   "source": [
    "sorted(da[\"data\"][0][\"contributors\"].keys())"
   ]
  },
  {
   "cell_type": "markdown",
   "id": "f9d12204",
   "metadata": {},
   "source": [
    "### Heart Rate"
   ]
  },
  {
   "cell_type": "code",
   "execution_count": null,
   "id": "4e79e255",
   "metadata": {},
   "outputs": [],
   "source": [
    "e = datetime.now()\n",
    "s = e - timedelta(hours=12)"
   ]
  },
  {
   "cell_type": "code",
   "execution_count": null,
   "id": "a5e38013",
   "metadata": {},
   "outputs": [],
   "source": [
    "hr = client(\"heartrate\", s.isoformat(), e.isoformat())\n",
    "hr"
   ]
  },
  {
   "cell_type": "markdown",
   "id": "1a65c0e7",
   "metadata": {},
   "source": [
    "### Personal Info"
   ]
  },
  {
   "cell_type": "code",
   "execution_count": null,
   "id": "eea77b56",
   "metadata": {},
   "outputs": [],
   "source": [
    "pi = client(\"personal_info\")\n",
    "pi"
   ]
  },
  {
   "cell_type": "markdown",
   "id": "404f222d",
   "metadata": {},
   "source": [
    "### Sessions"
   ]
  },
  {
   "cell_type": "code",
   "execution_count": null,
   "id": "313570bb",
   "metadata": {},
   "outputs": [],
   "source": [
    "sessions = client(\"session\", \"2022-06-01\", \"2022-06-26\")\n",
    "sessions"
   ]
  },
  {
   "cell_type": "markdown",
   "id": "0b43ec93-d0e9-458c-aefa-5ebaabfc576b",
   "metadata": {},
   "source": [
    "### Tags"
   ]
  },
  {
   "cell_type": "code",
   "execution_count": null,
   "id": "addd0000-7ff9-4b99-831d-2c6e10c3dd25",
   "metadata": {},
   "outputs": [],
   "source": [
    "tags = client(\"tag\", \"2022-06-01\", \"2022-06-26\")\n",
    "tags"
   ]
  },
  {
   "cell_type": "markdown",
   "id": "0230a578",
   "metadata": {},
   "source": [
    "### Workouts "
   ]
  },
  {
   "cell_type": "code",
   "execution_count": null,
   "id": "7b92f4da",
   "metadata": {},
   "outputs": [],
   "source": [
    "workouts = client(\"workout\", \"2022-06-01\", \"2022-06-26\")\n",
    "workouts"
   ]
  },
  {
   "cell_type": "markdown",
   "id": "fe8d3094",
   "metadata": {},
   "source": [
    "## v1 API"
   ]
  },
  {
   "cell_type": "markdown",
   "id": "5cb9d643",
   "metadata": {},
   "source": [
    "### Sleep"
   ]
  },
  {
   "cell_type": "code",
   "execution_count": null,
   "id": "280d0717",
   "metadata": {},
   "outputs": [],
   "source": [
    "sleep = client(\"sleep\", \"2022-06-01\", \"2022-06-26\")\n",
    "sleep"
   ]
  },
  {
   "cell_type": "code",
   "execution_count": null,
   "id": "f43d8c56",
   "metadata": {},
   "outputs": [],
   "source": [
    "dates = []\n",
    "hr_average = []\n",
    "hr_lowest = []\n",
    "for day in sleep[\"sleep\"]:\n",
    "    dates.append(day[\"summary_date\"])\n",
    "    hr_average.append(day[\"hr_average\"])\n",
    "    hr_lowest.append(day[\"hr_lowest\"])\n",
    "hr_df = pd.DataFrame(\n",
    "    {\"Date\": pd.to_datetime(dates), \"HR_average\": hr_average, \"HR_lowest\": hr_lowest}\n",
    ")\n",
    "hr_df"
   ]
  },
  {
   "cell_type": "code",
   "execution_count": null,
   "id": "8a03b1cc",
   "metadata": {},
   "outputs": [],
   "source": [
    "hr_cds = ColumnDataSource(hr_df)\n",
    "p = figure(title=\"Heart Rate\")\n",
    "p.line(\n",
    "    x=\"Date\",\n",
    "    y=\"HR_average\",\n",
    "    legend_label=\"HR average\",\n",
    "    line_color=\"gold\",\n",
    "    line_width=2,\n",
    "    source=hr_cds,\n",
    ")\n",
    "p.line(\n",
    "    x=\"Date\",\n",
    "    y=\"HR_lowest\",\n",
    "    legend_label=\"HR lowest\",\n",
    "    line_color=\"indigo\",\n",
    "    line_width=2,\n",
    "    source=hr_cds,\n",
    ")\n",
    "p.legend.location = \"top_right\"\n",
    "p.add_tools(CrosshairTool())\n",
    "tooltips = [\n",
    "    (\"Date\", \"@Date{%F}\"),\n",
    "    (\"HR average\", \"@{HR_average}\"),\n",
    "    (\"HR lowest\", \"@{HR_lowest}\"),\n",
    "]\n",
    "p.add_tools(HoverTool(tooltips=tooltips, formatters={\"@Date\": \"datetime\"}))\n",
    "p.legend.location = \"top_left\"\n",
    "p.legend.click_policy = \"hide\"\n",
    "show(p)"
   ]
  },
  {
   "cell_type": "markdown",
   "id": "22bd2da1",
   "metadata": {},
   "source": [
    "### Activity Summaries"
   ]
  },
  {
   "cell_type": "code",
   "execution_count": null,
   "id": "1c6fbf7a",
   "metadata": {},
   "outputs": [],
   "source": [
    "activity = client(\"activity\", \"2022-06-01\", \"2022-06-26\")\n",
    "activity"
   ]
  },
  {
   "cell_type": "markdown",
   "id": "926cf3a1",
   "metadata": {},
   "source": [
    "### Readiness Summaries"
   ]
  },
  {
   "cell_type": "code",
   "execution_count": null,
   "id": "cd6e76ce",
   "metadata": {},
   "outputs": [],
   "source": [
    "readiness = client(\"readiness\", \"2022-06-01\", \"2022-06-26\")\n",
    "readiness"
   ]
  },
  {
   "cell_type": "markdown",
   "id": "926733af",
   "metadata": {},
   "source": [
    "### Ideal bedtime"
   ]
  },
  {
   "cell_type": "code",
   "execution_count": null,
   "id": "362e9296",
   "metadata": {},
   "outputs": [],
   "source": [
    "bedtime = client(\"bedtime\", \"2022-06-01\", \"2022-06-26\")\n",
    "bedtime"
   ]
  }
 ],
 "metadata": {
  "kernelspec": {
   "display_name": "personal_health",
   "language": "python",
   "name": "personal_health"
  },
  "language_info": {
   "codemirror_mode": {
    "name": "ipython",
    "version": 3
   },
   "file_extension": ".py",
   "mimetype": "text/x-python",
   "name": "python",
   "nbconvert_exporter": "python",
   "pygments_lexer": "ipython3",
   "version": "3.10.4"
  }
 },
 "nbformat": 4,
 "nbformat_minor": 5
}
