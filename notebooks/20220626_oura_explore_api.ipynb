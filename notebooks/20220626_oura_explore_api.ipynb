{
 "cells": [
  {
   "cell_type": "markdown",
   "id": "492ef946-aa1a-42ad-af3c-fd5af9c58b9a",
   "metadata": {},
   "source": [
    "# Exploring the Oura API"
   ]
  },
  {
   "cell_type": "code",
   "execution_count": null,
   "id": "dced30fe-bf9a-4ed4-a47e-907ef639253b",
   "metadata": {},
   "outputs": [],
   "source": [
    "import logging\n",
    "import os\n",
    "import pprint\n",
    "from datetime import date, datetime, timedelta\n",
    "\n",
    "import bokeh\n",
    "import numpy as np\n",
    "import pandas as pd\n",
    "import panel as pn\n",
    "from qself.oura import OuraAPIClient\n",
    "from bokeh.io import output_notebook\n",
    "from bokeh.models import ColumnDataSource, CrosshairTool, HoverTool\n",
    "from bokeh.palettes import Category10\n",
    "from bokeh.plotting import figure, show\n",
    "from dotenv import load_dotenv"
   ]
  },
  {
   "cell_type": "code",
   "execution_count": null,
   "id": "25b284d9",
   "metadata": {},
   "outputs": [],
   "source": [
    "logging.basicConfig(level=logging.INFO)"
   ]
  },
  {
   "cell_type": "code",
   "execution_count": null,
   "id": "1a9c8aa2-57c3-470d-acdc-70aeb6d43548",
   "metadata": {},
   "outputs": [],
   "source": [
    "pn.extension()\n",
    "output_notebook()\n",
    "load_dotenv()"
   ]
  },
  {
   "cell_type": "code",
   "execution_count": null,
   "id": "97ab3e4e-c359-4004-897b-05d67cd1e911",
   "metadata": {},
   "outputs": [],
   "source": [
    "client = OuraAPIClient(os.environ[\"OURA_PERSONAL_ACCESS_TOKEN\"])"
   ]
  },
  {
   "cell_type": "markdown",
   "id": "b3ca12a6",
   "metadata": {},
   "source": [
    "## v2 API"
   ]
  },
  {
   "cell_type": "markdown",
   "id": "0986341f-0919-47f5-8f9d-c2aab9053060",
   "metadata": {},
   "source": [
    "### Daily Activity"
   ]
  },
  {
   "cell_type": "code",
   "execution_count": null,
   "id": "22180a87",
   "metadata": {},
   "outputs": [],
   "source": [
    "da = client(\"daily_activity\", \"2010-01-01\", \"2022-06-30\")"
   ]
  },
  {
   "cell_type": "code",
   "execution_count": null,
   "id": "595769f3",
   "metadata": {},
   "outputs": [],
   "source": [
    "pprint.pprint(da[\"data\"][0])"
   ]
  },
  {
   "cell_type": "code",
   "execution_count": null,
   "id": "270f72b3",
   "metadata": {},
   "outputs": [],
   "source": [
    "sorted(da[\"data\"][0][\"contributors\"].keys())"
   ]
  },
  {
   "cell_type": "code",
   "execution_count": null,
   "id": "3a54dc4e",
   "metadata": {},
   "outputs": [],
   "source": [
    "days = []\n",
    "act_calories = []\n",
    "for d in da[\"data\"]:\n",
    "    days.append(d[\"day\"])\n",
    "    act_calories.append(d[\"active_calories\"])\n",
    "\n",
    "activity_df = pd.DataFrame(\n",
    "    {\"Date\": pd.to_datetime(days), \"Active_calories\": act_calories}\n",
    ")\n",
    "assert len(activity_df) == len(activity_df[\"Date\"].unique())\n",
    "activity_df"
   ]
  },
  {
   "cell_type": "code",
   "execution_count": null,
   "id": "e6593340",
   "metadata": {},
   "outputs": [],
   "source": [
    "sorted(d.keys())"
   ]
  },
  {
   "cell_type": "markdown",
   "id": "f9d12204",
   "metadata": {},
   "source": [
    "### Heart Rate"
   ]
  },
  {
   "cell_type": "code",
   "execution_count": null,
   "id": "4e79e255",
   "metadata": {},
   "outputs": [],
   "source": [
    "e = datetime.now()\n",
    "s = e - timedelta(hours=12)"
   ]
  },
  {
   "cell_type": "code",
   "execution_count": null,
   "id": "a5e38013",
   "metadata": {},
   "outputs": [],
   "source": [
    "hr = client(\"heartrate\", s.isoformat(), e.isoformat())\n",
    "hr"
   ]
  },
  {
   "cell_type": "markdown",
   "id": "1a65c0e7",
   "metadata": {},
   "source": [
    "### Personal Info"
   ]
  },
  {
   "cell_type": "code",
   "execution_count": null,
   "id": "eea77b56",
   "metadata": {},
   "outputs": [],
   "source": [
    "pi = client(\"personal_info\")\n",
    "pi"
   ]
  },
  {
   "cell_type": "markdown",
   "id": "404f222d",
   "metadata": {},
   "source": [
    "### Sessions"
   ]
  },
  {
   "cell_type": "code",
   "execution_count": null,
   "id": "313570bb",
   "metadata": {},
   "outputs": [],
   "source": [
    "sessions = client(\"session\", \"2022-06-01\", \"2022-06-26\")\n",
    "sessions"
   ]
  },
  {
   "cell_type": "markdown",
   "id": "0b43ec93-d0e9-458c-aefa-5ebaabfc576b",
   "metadata": {},
   "source": [
    "### Tags"
   ]
  },
  {
   "cell_type": "code",
   "execution_count": null,
   "id": "addd0000-7ff9-4b99-831d-2c6e10c3dd25",
   "metadata": {},
   "outputs": [],
   "source": [
    "tags = client(\"tag\", \"2010-01-01\", \"2022-06-30\")\n",
    "tags"
   ]
  },
  {
   "cell_type": "code",
   "execution_count": null,
   "id": "8ce6de8f",
   "metadata": {},
   "outputs": [],
   "source": [
    "tag_df = pd.DataFrame(tags[\"data\"])\n",
    "tag_df[\"Date\"] = pd.to_datetime(tag_df.day)\n",
    "tag_df.drop(columns=[\"day\"], inplace=True)\n",
    "tag_df.rename(\n",
    "    columns={\"tags\": \"Tag\", \"text\": \"Text\", \"timestamp\": \"Timestamp\"}, inplace=True\n",
    ")\n",
    "tag_df = tag_df[[\"Date\", \"Timestamp\", \"Tag\", \"Text\"]]\n",
    "tag_df = tag_df.explode(\"Tag\")\n",
    "tag_df[\"Date_following\"] = tag_df[\"Date\"] + timedelta(days=1)\n",
    "tag_df"
   ]
  },
  {
   "cell_type": "code",
   "execution_count": null,
   "id": "e6dcaff4",
   "metadata": {},
   "outputs": [],
   "source": [
    "tag_df.value_counts(\"Tag\")"
   ]
  },
  {
   "cell_type": "code",
   "execution_count": null,
   "id": "a81477e1",
   "metadata": {},
   "outputs": [],
   "source": [
    "tag_df.loc[tag_df[\"Tag\"] == \"tag_sleep_alcohol\", :]"
   ]
  },
  {
   "cell_type": "markdown",
   "id": "0230a578",
   "metadata": {},
   "source": [
    "### Workouts "
   ]
  },
  {
   "cell_type": "code",
   "execution_count": null,
   "id": "7b92f4da",
   "metadata": {},
   "outputs": [],
   "source": [
    "workouts = client(\"workout\", \"2022-06-01\", \"2022-06-26\")\n",
    "workouts"
   ]
  },
  {
   "cell_type": "markdown",
   "id": "fe8d3094",
   "metadata": {},
   "source": [
    "## v1 API"
   ]
  },
  {
   "cell_type": "markdown",
   "id": "5cb9d643",
   "metadata": {},
   "source": [
    "### Sleep"
   ]
  },
  {
   "cell_type": "code",
   "execution_count": null,
   "id": "280d0717",
   "metadata": {},
   "outputs": [],
   "source": [
    "sleep = client(\"sleep\", \"2010-01-01\", \"2022-06-30\")\n",
    "sleep"
   ]
  },
  {
   "cell_type": "code",
   "execution_count": null,
   "id": "f43d8c56",
   "metadata": {},
   "outputs": [],
   "source": [
    "dates = []\n",
    "hr_average = []\n",
    "hr_lowest = []\n",
    "hrv = []\n",
    "for day in sleep[\"sleep\"]:\n",
    "    try:\n",
    "        d = day[\"summary_date\"]\n",
    "        hr_a = day[\"hr_average\"]\n",
    "        hr_l = day[\"hr_lowest\"]\n",
    "        rmssd = day[\"rmssd\"]\n",
    "    except KeyError:\n",
    "        logging.info(f\"Skipping {d}.\")\n",
    "        continue\n",
    "    dates.append(d)\n",
    "    hr_average.append(hr_a)\n",
    "    hr_lowest.append(hr_l)\n",
    "    hrv.append(rmssd)\n",
    "\n",
    "hr_df = pd.DataFrame(\n",
    "    {\n",
    "        \"Date\": pd.to_datetime(dates),\n",
    "        \"HR_average\": hr_average,\n",
    "        \"HR_lowest\": hr_lowest,\n",
    "        \"HRV\": hrv,\n",
    "    }\n",
    ")\n",
    "hr_df[\"Year\"] = hr_df[\"Date\"].dt.isocalendar().year\n",
    "hr_df[\"Month\"] = hr_df[\"Date\"].dt.month\n",
    "hr_df[\"Week\"] = hr_df[\"Date\"].dt.isocalendar().week\n",
    "hr_df"
   ]
  },
  {
   "cell_type": "code",
   "execution_count": null,
   "id": "f5327987",
   "metadata": {},
   "outputs": [],
   "source": [
    "hr_df.corr(method=\"pearson\")"
   ]
  },
  {
   "cell_type": "code",
   "execution_count": null,
   "id": "8a03b1cc",
   "metadata": {},
   "outputs": [],
   "source": [
    "hr_cds = ColumnDataSource(hr_df)\n",
    "p = figure(title=\"Heart Rate\", x_axis_type=\"datetime\")\n",
    "p.line(\n",
    "    x=\"Date\",\n",
    "    y=\"HR_average\",\n",
    "    legend_label=\"HR average\",\n",
    "    line_color=\"gold\",\n",
    "    line_width=2,\n",
    "    source=hr_cds,\n",
    ")\n",
    "p.line(\n",
    "    x=\"Date\",\n",
    "    y=\"HR_lowest\",\n",
    "    legend_label=\"HR lowest\",\n",
    "    line_color=\"indigo\",\n",
    "    line_width=2,\n",
    "    source=hr_cds,\n",
    ")\n",
    "p.legend.location = \"top_right\"\n",
    "p.add_tools(CrosshairTool())\n",
    "tooltips = [\n",
    "    (\"Date\", \"@Date{%F}\"),\n",
    "    (\"HR average\", \"@{HR_average}\"),\n",
    "    (\"HR lowest\", \"@{HR_lowest}\"),\n",
    "]\n",
    "p.add_tools(HoverTool(tooltips=tooltips, formatters={\"@Date\": \"datetime\"}))\n",
    "p.legend.location = \"top_left\"\n",
    "p.legend.click_policy = \"hide\"\n",
    "show(p)"
   ]
  },
  {
   "cell_type": "markdown",
   "id": "3d4f2b56",
   "metadata": {},
   "source": [
    "### Monthly and weekly averages, compared year-on-year"
   ]
  },
  {
   "cell_type": "code",
   "execution_count": null,
   "id": "8abfa8b1",
   "metadata": {},
   "outputs": [],
   "source": [
    "hr_year_df = (\n",
    "    hr_df.groupby([\"Year\"]).agg(np.mean).reset_index().drop([\"Week\", \"Month\"], axis=1)\n",
    ")\n",
    "\n",
    "hr_month_df = (\n",
    "    hr_df.groupby([\"Year\", \"Month\"]).agg(np.mean).reset_index().drop([\"Week\"], axis=1)\n",
    ")\n",
    "hr_month_df[\"Date\"] = [f\"{y}-{m}\" for y, m in zip(hr_month_df.Year, hr_month_df.Month)]\n",
    "\n",
    "hr_week_df = (\n",
    "    hr_df.groupby([\"Year\", \"Week\"]).agg(np.mean).reset_index().drop([\"Month\"], axis=1)\n",
    ")\n",
    "hr_week_df[\"Date\"] = [f\"{y}-{w}\" for y, w in zip(hr_week_df.Year, hr_week_df.Week)]"
   ]
  },
  {
   "cell_type": "code",
   "execution_count": null,
   "id": "2f8a1f5d",
   "metadata": {},
   "outputs": [],
   "source": [
    "hr_year_df"
   ]
  },
  {
   "cell_type": "code",
   "execution_count": null,
   "id": "de0bdacd",
   "metadata": {},
   "outputs": [],
   "source": [
    "def plot_year_on_year(x_axis_label: str, plot_hrv=False) -> bokeh.plotting.Figure:\n",
    "    if x_axis_label == \"Week\":\n",
    "        input_df = hr_week_df\n",
    "    elif x_axis_label == \"Month\":\n",
    "        input_df = hr_month_df\n",
    "    else:\n",
    "        raise ValueError(f\"Unknown x_axis_label: {x_axis_label}\")\n",
    "    years = sorted(input_df.Year.unique())\n",
    "    p = figure(title=f\"Heart Rate ({x_axis_label})\")\n",
    "    for i, y in enumerate(years):\n",
    "        hr_month_cds = ColumnDataSource(input_df.loc[input_df.Year == y, :])\n",
    "        p.line(\n",
    "            x=x_axis_label,\n",
    "            y=\"HR_average\",\n",
    "            legend_label=f\"HR average ({y})\",\n",
    "            line_color=Category10[10][i],\n",
    "            line_width=2,\n",
    "            source=hr_month_cds,\n",
    "        )\n",
    "        p.line(\n",
    "            x=x_axis_label,\n",
    "            y=\"HR_lowest\",\n",
    "            legend_label=f\"HR lowest ({y})\",\n",
    "            line_color=Category10[10][i],\n",
    "            line_width=2,\n",
    "            source=hr_month_cds,\n",
    "        )\n",
    "        if plot_hrv:\n",
    "            p.line(\n",
    "                x=x_axis_label,\n",
    "                y=\"HRV\",\n",
    "                legend_label=f\"HRV ({y})\",\n",
    "                line_color=Category10[10][i],\n",
    "                line_width=2,\n",
    "                source=hr_month_cds,\n",
    "            )\n",
    "    p.legend.location = \"top_right\"\n",
    "    p.add_tools(CrosshairTool())\n",
    "    tooltips = [\n",
    "        (\"Date\", \"@{Date}\"),\n",
    "        (\"HR average\", \"@{HR_average}\"),\n",
    "        (\"HR lowest\", \"@{HR_lowest}\"),\n",
    "    ]\n",
    "    if plot_hrv:\n",
    "        tooltips.append((\"HRV\", \"@{HRV}\"))\n",
    "    p.add_tools(HoverTool(tooltips=tooltips))\n",
    "    p.legend.location = \"top_right\"\n",
    "    p.legend.click_policy = \"hide\"\n",
    "    return p"
   ]
  },
  {
   "cell_type": "code",
   "execution_count": null,
   "id": "67abe4a9",
   "metadata": {},
   "outputs": [],
   "source": [
    "kw = dict(x_axis_label=[\"Week\", \"Month\"], plot_hrv=[False, True])\n",
    "pn.interact(plot_year_on_year, **kw)"
   ]
  },
  {
   "cell_type": "markdown",
   "id": "b8fd35f5",
   "metadata": {},
   "source": [
    "### Effect of previous day activity on HRV"
   ]
  },
  {
   "cell_type": "code",
   "execution_count": null,
   "id": "ac8a99ab",
   "metadata": {},
   "outputs": [],
   "source": [
    "hr_activity_df = pd.merge(hr_df, activity_df, on=\"Date\", how=\"inner\")\n",
    "hr_activity_df[\"Active_calories_shifted\"] = hr_activity_df[\"Active_calories\"].shift(1)\n",
    "hr_activity_df"
   ]
  },
  {
   "cell_type": "code",
   "execution_count": null,
   "id": "e6056629",
   "metadata": {},
   "outputs": [],
   "source": [
    "# less than 300 active calories per day is considered implausible\n",
    "hr_activity_df = hr_activity_df.loc[hr_activity_df[\"Active_calories_shifted\"] > 300, :]"
   ]
  },
  {
   "cell_type": "code",
   "execution_count": null,
   "id": "fc05677a",
   "metadata": {},
   "outputs": [],
   "source": [
    "hra_cds = ColumnDataSource(hr_activity_df)\n",
    "p = figure(title=\"Effect of previous day activity on HRV\")\n",
    "p.circle(\n",
    "    x=\"Active_calories_shifted\",\n",
    "    y=\"HRV\",\n",
    "    line_color=\"gold\",\n",
    "    legend_label=\"HRV\",\n",
    "    source=hra_cds,\n",
    ")\n",
    "p.legend.location = \"top_right\"\n",
    "p.add_tools(CrosshairTool())\n",
    "tooltips = [\n",
    "    (\"Date\", \"@Date{%F}\"),\n",
    "    (\"Active calories\", \"@{Active_calories}\"),\n",
    "    (\"HRV\", \"@{HRV}\"),\n",
    "]\n",
    "p.add_tools(HoverTool(tooltips=tooltips, formatters={\"@Date\": \"datetime\"}))\n",
    "p.legend.location = \"top_left\"\n",
    "p.legend.click_policy = \"hide\"\n",
    "show(p)"
   ]
  },
  {
   "cell_type": "code",
   "execution_count": null,
   "id": "28f3635f",
   "metadata": {},
   "outputs": [],
   "source": [
    "hr_activity_df[[\"HRV\", \"Active_calories\", \"Active_calories_shifted\"]].corr(\n",
    "    method=\"pearson\"\n",
    ")"
   ]
  },
  {
   "cell_type": "markdown",
   "id": "0fadc4e4",
   "metadata": {},
   "source": [
    "### Effect of previous day tag on HRV"
   ]
  },
  {
   "cell_type": "code",
   "execution_count": null,
   "id": "316b4d3c",
   "metadata": {},
   "outputs": [],
   "source": [
    "# join tag_df with next day's HR and HRV\n",
    "tag_hr_df = pd.merge(\n",
    "    hr_df, tag_df, left_on=\"Date\", right_on=\"Date_following\", how=\"inner\"\n",
    ")\n",
    "if len(tag_hr_df) != len(tag_df):\n",
    "    print(f\"Only {len(tag_hr_df)} of {len(tag_df)} tags have HR data.\")\n",
    "tag_hr_df"
   ]
  },
  {
   "cell_type": "code",
   "execution_count": null,
   "id": "ec190fcb",
   "metadata": {},
   "outputs": [],
   "source": [
    "n = 100\n",
    "hr_sample_df = hr_df.sample(n=n, random_state=0)\n",
    "hr_sample_df"
   ]
  },
  {
   "cell_type": "code",
   "execution_count": null,
   "id": "7b826eca",
   "metadata": {},
   "outputs": [],
   "source": [
    "thr_cds = ColumnDataSource(tag_hr_df)\n",
    "p = figure(\n",
    "    title=\"Effect of previous day tag on HRV\",\n",
    "    y_range=list(tag_hr_df.value_counts(\"Tag\")[:10].index),\n",
    ")\n",
    "p.circle(\n",
    "    x=\"HRV\",\n",
    "    y=\"Tag\",\n",
    "    line_color=\"blue\",\n",
    "    legend_label=\"HRV\",\n",
    "    source=thr_cds,\n",
    ")\n",
    "p.legend.location = \"top_right\"\n",
    "p.add_tools(CrosshairTool())\n",
    "tooltips = [\n",
    "    (\"Date\", \"@Date_x{%F}\"),\n",
    "    (\"HRV\", \"@{HRV}\"),\n",
    "]\n",
    "p.add_tools(HoverTool(tooltips=tooltips, formatters={\"@Date_x\": \"datetime\"}))\n",
    "p.legend.location = \"top_left\"\n",
    "p.legend.click_policy = \"hide\"\n",
    "show(p)"
   ]
  },
  {
   "cell_type": "markdown",
   "id": "22bd2da1",
   "metadata": {},
   "source": [
    "### Activity Summaries"
   ]
  },
  {
   "cell_type": "code",
   "execution_count": null,
   "id": "1c6fbf7a",
   "metadata": {},
   "outputs": [],
   "source": [
    "activity = client(\"activity\", \"2022-06-01\", \"2022-06-26\")\n",
    "activity"
   ]
  },
  {
   "cell_type": "markdown",
   "id": "926cf3a1",
   "metadata": {},
   "source": [
    "### Readiness Summaries"
   ]
  },
  {
   "cell_type": "code",
   "execution_count": null,
   "id": "cd6e76ce",
   "metadata": {},
   "outputs": [],
   "source": [
    "readiness = client(\"readiness\", \"2022-06-01\", \"2022-06-26\")\n",
    "readiness"
   ]
  },
  {
   "cell_type": "markdown",
   "id": "926733af",
   "metadata": {},
   "source": [
    "### Ideal bedtime"
   ]
  },
  {
   "cell_type": "code",
   "execution_count": null,
   "id": "362e9296",
   "metadata": {},
   "outputs": [],
   "source": [
    "bedtime = client(\"bedtime\", \"2022-06-01\", \"2022-06-26\")\n",
    "bedtime"
   ]
  },
  {
   "cell_type": "code",
   "execution_count": null,
   "id": "430696db",
   "metadata": {},
   "outputs": [],
   "source": []
  }
 ],
 "metadata": {
  "kernelspec": {
   "display_name": "personal_health",
   "language": "python",
   "name": "personal_health"
  },
  "language_info": {
   "codemirror_mode": {
    "name": "ipython",
    "version": 3
   },
   "file_extension": ".py",
   "mimetype": "text/x-python",
   "name": "python",
   "nbconvert_exporter": "python",
   "pygments_lexer": "ipython3",
   "version": "3.10.4"
  }
 },
 "nbformat": 4,
 "nbformat_minor": 5
}
